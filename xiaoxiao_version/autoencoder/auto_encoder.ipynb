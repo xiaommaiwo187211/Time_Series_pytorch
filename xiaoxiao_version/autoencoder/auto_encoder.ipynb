{
 "cells": [
  {
   "cell_type": "code",
   "execution_count": 2,
   "metadata": {},
   "outputs": [],
   "source": [
    "from torchvision import datasets, transforms\n",
    "import torch\n",
    "import torch.nn.functional as F\n",
    "import torch.optim as optim\n",
    "import torchvision\n",
    "import numpy as np\n",
    "import pandas as pd\n",
    "import torch.utils.data as Data\n",
    "from torch.utils.data.dataloader import DataLoader\n",
    "import torch.nn as nn"
   ]
  },
  {
   "cell_type": "code",
   "execution_count": 5,
   "metadata": {},
   "outputs": [],
   "source": [
    "# train batch_size\n",
    "batch_size = 5\n",
    "data = torch.Tensor(np.random.randint(1,4,(100,1,28,28)))\n",
    "target = torch.Tensor(np.random.randint(1,10,(100)))\n",
    "torch_dataset = Data.TensorDataset(data, target)\n",
    "loader_train = Data.DataLoader(dataset = torch_dataset,\n",
    "batch_size = batch_size,\n",
    "shuffle = True)\n",
    "# train batch_size\n",
    "\n",
    "\n",
    "# test all_data\n",
    "data_test = torch.Tensor(np.random.randint(1,4,(10,1,28,28)))/255"
   ]
  },
  {
   "cell_type": "code",
   "execution_count": 38,
   "metadata": {},
   "outputs": [
    {
     "name": "stdout",
     "output_type": "stream",
     "text": [
      "tensor(2.8492, grad_fn=<MseLossBackward>)\n",
      "tensor(2.9121, grad_fn=<MseLossBackward>)\n",
      "tensor(2.9300, grad_fn=<MseLossBackward>)\n",
      "tensor(2.8753, grad_fn=<MseLossBackward>)\n",
      "tensor(2.8458, grad_fn=<MseLossBackward>)\n",
      "tensor(2.8025, grad_fn=<MseLossBackward>)\n"
     ]
    }
   ],
   "source": [
    "class AutoEncoder(nn.Module):\n",
    "    def __init__(self):\n",
    "        super(AutoEncoder, self).__init__()\n",
    "        \n",
    "        self.encoder = nn.Sequential(\n",
    "        nn.Linear(28*28, 128),\n",
    "        nn.Tanh(),\n",
    "        nn.Linear(128,64),\n",
    "        nn.Tanh(),\n",
    "        nn.Linear(64,12),\n",
    "        nn.Tanh(),\n",
    "        nn.Linear(12,3),\n",
    "        )\n",
    "        \n",
    "        self.decoder = nn.Sequential(\n",
    "            nn.Linear(3, 12),\n",
    "            nn.Tanh(),\n",
    "            nn.Linear(12, 64),\n",
    "            nn.Tanh(),\n",
    "            nn.Linear(64, 128),\n",
    "            nn.Tanh(),\n",
    "            nn.Linear(128, 28*28),\n",
    "            nn.Sigmoid(),       # compress to a range (0, 1)\n",
    "        )\n",
    "        \n",
    "    def forward(self, inputs):\n",
    "        encoded = self.encoder(inputs)\n",
    "        decoded = self.decoder(encoded)\n",
    "        return encoded, decoded\n",
    "    \n",
    "autoencoder = AutoEncoder()\n",
    "\n",
    "LR = 0.0001\n",
    "\n",
    "optimizer = torch.optim.Adam(autoencoder.parameters(),lr = LR)\n",
    "loss_func = nn.MSELoss()\n",
    "\n",
    "EPOCH =3\n",
    "\n",
    "for epoch in range(EPOCH):\n",
    "    for step,(b_x,b_y) in enumerate(loader_train):\n",
    "        output = autoencoder(b_x.view(5,-1))[1].view(5,28,-1).unsqueeze(1)\n",
    "        total_loss = loss_func(output, b_x)\n",
    "        optimizer.zero_grad()\n",
    "        total_loss.backward()\n",
    "        optimizer.step()\n",
    "    \n",
    "        if step % 10 == 0:\n",
    "            print(total_loss)"
   ]
  },
  {
   "cell_type": "code",
   "execution_count": null,
   "metadata": {},
   "outputs": [],
   "source": []
  }
 ],
 "metadata": {
  "kernelspec": {
   "display_name": "Python3 (PySpark)",
   "language": "python",
   "name": "python3"
  },
  "language_info": {
   "codemirror_mode": {
    "name": "ipython",
    "version": 3
   },
   "file_extension": ".py",
   "mimetype": "text/x-python",
   "name": "python",
   "nbconvert_exporter": "python",
   "pygments_lexer": "ipython3",
   "version": "3.6.7"
  }
 },
 "nbformat": 4,
 "nbformat_minor": 2
}
